{
  "nbformat": 4,
  "nbformat_minor": 0,
  "metadata": {
    "colab": {
      "name": "train_model.ipynb",
      "provenance": [],
      "collapsed_sections": [],
      "mount_file_id": "1Pj_JETyFyLNTp-AnfiBIfeDxEy0RTWHI",
      "authorship_tag": "ABX9TyNeMksmeRpRGoDeYKjfpZ0T",
      "include_colab_link": true
    },
    "kernelspec": {
      "name": "python3",
      "display_name": "Python 3"
    },
    "accelerator": "GPU"
  },
  "cells": [
    {
      "cell_type": "markdown",
      "metadata": {
        "id": "view-in-github",
        "colab_type": "text"
      },
      "source": [
        "<a href=\"https://colab.research.google.com/github/abhi9716/Emojinator/blob/master/train_model.ipynb\" target=\"_parent\"><img src=\"https://colab.research.google.com/assets/colab-badge.svg\" alt=\"Open In Colab\"/></a>"
      ]
    },
    {
      "cell_type": "code",
      "metadata": {
        "id": "gQ2nGF4GZlI1",
        "colab_type": "code",
        "colab": {}
      },
      "source": [
        "# !cp -r \"/content/drive/My Drive/emojifier/dataset\" /content"
      ],
      "execution_count": 1,
      "outputs": []
    },
    {
      "cell_type": "code",
      "metadata": {
        "id": "VgUatlOFLAxn",
        "colab_type": "code",
        "colab": {
          "base_uri": "https://localhost:8080/",
          "height": 34
        },
        "outputId": "249b8544-5ae7-4e1c-f46c-8f35b6aa9f73"
      },
      "source": [
        "import numpy as np\n",
        "import matplotlib.pyplot as plt\n",
        "%matplotlib inline\n",
        "from keras.preprocessing.image import ImageDataGenerator\n",
        "from keras.models import Sequential\n",
        "from keras.layers import Dropout, Flatten, Dense, Activation\n",
        "from keras.layers import Conv2D, MaxPooling2D,MaxPool2D\n",
        "from keras import applications\n",
        "from keras.optimizers import RMSprop\n",
        "from keras.callbacks import ReduceLROnPlateau\n",
        "from keras import backend as K\n",
        "\n",
        "# dimensions of our images.\n",
        "img_width, img_height = 100, 100\n",
        "train_data_dir = '/content/dataset/train'\n",
        "validation_data_dir = '/content/dataset/test'\n",
        "nb_train_samples = 3510\n",
        "nb_validation_samples = 1500\n",
        "epochs = 15\n",
        "batch_size = 64"
      ],
      "execution_count": 2,
      "outputs": [
        {
          "output_type": "stream",
          "text": [
            "Using TensorFlow backend.\n"
          ],
          "name": "stderr"
        }
      ]
    },
    {
      "cell_type": "code",
      "metadata": {
        "id": "5ynAfc39oW2l",
        "colab_type": "code",
        "colab": {
          "base_uri": "https://localhost:8080/",
          "height": 34
        },
        "outputId": "340a52d0-3799-42ba-af85-0b156f1b52e6"
      },
      "source": [
        "import tensorflow as tf; print(tf.__version__)"
      ],
      "execution_count": 10,
      "outputs": [
        {
          "output_type": "stream",
          "text": [
            "2.2.0\n"
          ],
          "name": "stdout"
        }
      ]
    },
    {
      "cell_type": "code",
      "metadata": {
        "id": "65IO-ykcLdh1",
        "colab_type": "code",
        "colab": {
          "base_uri": "https://localhost:8080/",
          "height": 51
        },
        "outputId": "00f6856f-089f-4fd2-9f87-f46f60662a23"
      },
      "source": [
        "# this is the augmentation configuration we will use for training\n",
        "train_datagen = ImageDataGenerator(\n",
        "        rescale=1./255,\n",
        "        shear_range=0.2,\n",
        "        zoom_range=0.2,\n",
        "        horizontal_flip=True)\n",
        "\n",
        "# this is the augmentation configuration we will use for testing:\n",
        "# only rescaling\n",
        "test_datagen = ImageDataGenerator(rescale=1./255)\n",
        "\n",
        "# this is a generator that will read pictures found in\n",
        "# subfolers of 'data/train', and indefinitely generate\n",
        "# batches of augmented image data\n",
        "train_generator = train_datagen.flow_from_directory(\n",
        "        train_data_dir,  # this is the target directory\n",
        "        target_size=(100, 100),  # all images will be resized to 100x100\n",
        "        batch_size=batch_size,color_mode=\"grayscale\"\n",
        "        )  # since we use binary_crossentropy loss, we need binary labels\n",
        "\n",
        "# this is a similar generator, for validation data\n",
        "validation_generator = test_datagen.flow_from_directory(\n",
        "        validation_data_dir,\n",
        "        target_size=(100, 100),\n",
        "        batch_size=batch_size,color_mode=\"grayscale\"\n",
        "       )"
      ],
      "execution_count": 3,
      "outputs": [
        {
          "output_type": "stream",
          "text": [
            "Found 3510 images belonging to 10 classes.\n",
            "Found 1500 images belonging to 10 classes.\n"
          ],
          "name": "stdout"
        }
      ]
    },
    {
      "cell_type": "code",
      "metadata": {
        "id": "IWd-rrtpHt-E",
        "colab_type": "code",
        "colab": {}
      },
      "source": [
        "if K.image_data_format() == 'channels_first':\n",
        "    input_shape = (1, img_width, img_height)\n",
        "else:\n",
        "    input_shape = (img_width, img_height, 1)\n",
        "\n",
        "model = Sequential()\n",
        "\n",
        "model.add(Conv2D(filters = 32, kernel_size = (5,5),padding = 'Same', \n",
        "                 activation ='relu', input_shape = input_shape))\n",
        "model.add(Conv2D(filters = 32, kernel_size = (5,5),padding = 'Same', \n",
        "                 activation ='relu'))\n",
        "model.add(MaxPool2D(pool_size=(2,2)))\n",
        "model.add(Dropout(0.25))\n",
        "\n",
        "\n",
        "model.add(Conv2D(filters = 64, kernel_size = (3,3),padding = 'Same', \n",
        "                 activation ='relu'))\n",
        "model.add(Conv2D(filters = 64, kernel_size = (3,3),padding = 'Same', \n",
        "                 activation ='relu'))\n",
        "model.add(MaxPool2D(pool_size=(2,2), strides=(2,2)))\n",
        "model.add(Dropout(0.25))\n",
        "\n",
        "\n",
        "model.add(Flatten())\n",
        "model.add(Dense(256, activation = \"relu\"))\n",
        "model.add(Dropout(0.5))\n",
        "model.add(Dense(10, activation = \"softmax\"))\n",
        "\n",
        "# Define the optimizer\n",
        "optimizer = RMSprop(lr=0.001, rho=0.9, epsilon=1e-08, decay=0.0)\n",
        "model.compile(loss='categorical_crossentropy',\n",
        "              optimizer=optimizer,\n",
        "              metrics=['accuracy'])\n",
        "\n",
        "# Set a learning rate annealer\n",
        "learning_rate_reduction = ReduceLROnPlateau(monitor='val_accuracy', \n",
        "                                            patience=3, \n",
        "                                            verbose=1, \n",
        "                                            factor=0.5, \n",
        "                                            min_lr=0.00001)"
      ],
      "execution_count": 4,
      "outputs": []
    },
    {
      "cell_type": "code",
      "metadata": {
        "id": "J34HHMZGHzir",
        "colab_type": "code",
        "colab": {
          "base_uri": "https://localhost:8080/",
          "height": 561
        },
        "outputId": "9fdf3d11-f75f-4c1f-e865-62977ac44211"
      },
      "source": [
        "history = model.fit_generator(\n",
        "    train_generator,\n",
        "    steps_per_epoch=nb_train_samples // batch_size,\n",
        "    epochs=epochs,\n",
        "    validation_data=validation_generator,\n",
        "    validation_steps=nb_validation_samples // batch_size,\n",
        "    callbacks=[learning_rate_reduction]\n",
        "    )"
      ],
      "execution_count": 5,
      "outputs": [
        {
          "output_type": "stream",
          "text": [
            "Epoch 1/15\n",
            "54/54 [==============================] - 9s 168ms/step - loss: 1.9315 - accuracy: 0.3157 - val_loss: 0.5874 - val_accuracy: 0.8505\n",
            "Epoch 2/15\n",
            "54/54 [==============================] - 5s 102ms/step - loss: 0.6814 - accuracy: 0.7754 - val_loss: 0.1468 - val_accuracy: 0.9568\n",
            "Epoch 3/15\n",
            "54/54 [==============================] - 5s 100ms/step - loss: 0.3816 - accuracy: 0.8807 - val_loss: 0.1004 - val_accuracy: 0.9721\n",
            "Epoch 4/15\n",
            "54/54 [==============================] - 5s 101ms/step - loss: 0.2647 - accuracy: 0.9196 - val_loss: 0.0200 - val_accuracy: 0.9847\n",
            "Epoch 5/15\n",
            "54/54 [==============================] - 5s 101ms/step - loss: 0.1899 - accuracy: 0.9405 - val_loss: 0.0131 - val_accuracy: 0.9896\n",
            "Epoch 6/15\n",
            "54/54 [==============================] - 5s 101ms/step - loss: 0.1540 - accuracy: 0.9544 - val_loss: 0.0872 - val_accuracy: 0.9889\n",
            "Epoch 7/15\n",
            "54/54 [==============================] - 5s 100ms/step - loss: 0.1400 - accuracy: 0.9568 - val_loss: 0.0213 - val_accuracy: 0.9840\n",
            "Epoch 8/15\n",
            "54/54 [==============================] - 5s 102ms/step - loss: 0.1182 - accuracy: 0.9637 - val_loss: 0.0015 - val_accuracy: 0.9847\n",
            "\n",
            "Epoch 00008: ReduceLROnPlateau reducing learning rate to 0.0005000000237487257.\n",
            "Epoch 9/15\n",
            "54/54 [==============================] - 5s 99ms/step - loss: 0.0639 - accuracy: 0.9794 - val_loss: 0.0972 - val_accuracy: 0.9916\n",
            "Epoch 10/15\n",
            "54/54 [==============================] - 5s 100ms/step - loss: 0.0684 - accuracy: 0.9794 - val_loss: 0.0017 - val_accuracy: 0.9930\n",
            "Epoch 11/15\n",
            "54/54 [==============================] - 5s 98ms/step - loss: 0.0498 - accuracy: 0.9858 - val_loss: 0.0086 - val_accuracy: 0.9937\n",
            "Epoch 12/15\n",
            "54/54 [==============================] - 5s 101ms/step - loss: 0.0413 - accuracy: 0.9869 - val_loss: 0.0187 - val_accuracy: 0.9958\n",
            "Epoch 13/15\n",
            "54/54 [==============================] - 5s 99ms/step - loss: 0.0360 - accuracy: 0.9898 - val_loss: 0.0112 - val_accuracy: 0.9958\n",
            "Epoch 14/15\n",
            "54/54 [==============================] - 5s 96ms/step - loss: 0.0346 - accuracy: 0.9896 - val_loss: 5.2019e-04 - val_accuracy: 0.9972\n",
            "Epoch 15/15\n",
            "54/54 [==============================] - 5s 98ms/step - loss: 0.0302 - accuracy: 0.9881 - val_loss: 1.4476e-04 - val_accuracy: 0.9972\n"
          ],
          "name": "stdout"
        }
      ]
    },
    {
      "cell_type": "code",
      "metadata": {
        "id": "n9aOB9KhH8m_",
        "colab_type": "code",
        "colab": {
          "base_uri": "https://localhost:8080/",
          "height": 268
        },
        "outputId": "cf21e808-4ad7-4455-a48b-dd0d5aca44e7"
      },
      "source": [
        "# Plot the loss and accuracy curves for training and validation \n",
        "fig, ax = plt.subplots(2,1)\n",
        "ax[0].plot(history.history['loss'], color='b', label=\"Training loss\")\n",
        "ax[0].plot(history.history['val_loss'], color='r', label=\"validation loss\",axes =ax[0])\n",
        "legend = ax[0].legend(loc='best', shadow=True)\n",
        "\n",
        "ax[1].plot(history.history['accuracy'], color='b', label=\"Training accuracy\")\n",
        "ax[1].plot(history.history['val_accuracy'], color='r',label=\"Validation accuracy\")\n",
        "legend = ax[1].legend(loc='best', shadow=True)"
      ],
      "execution_count": 6,
      "outputs": [
        {
          "output_type": "display_data",
          "data": {
            "image/png": "[encoded data removed]",
            "text/plain": [
              "<Figure size 432x288 with 2 Axes>"
            ]
          },
          "metadata": {
            "tags": [],
            "needs_background": "light"
          }
        }
      ]
    },
    {
      "cell_type": "code",
      "metadata": {
        "id": "q2qPVcD5Xmfl",
        "colab_type": "code",
        "colab": {}
      },
      "source": [
        "from PIL import Image\n",
        "from skimage import transform\n",
        "def load(filename):\n",
        "   np_image = Image.open(filename)\n",
        "   np_image = np.array(np_image).astype('float32')/255\n",
        "   np_image = transform.resize(np_image, (100, 100, 1))\n",
        "   np_image = np.expand_dims(np_image, axis=0)\n",
        "   return np_image\n",
        "\n",
        "image = load(\"/content/dataset/test/1/1.jpg\")\n",
        "\n",
        "results = model.predict(image)"
      ],
      "execution_count": 7,
      "outputs": []
    },
    {
      "cell_type": "code",
      "metadata": {
        "id": "HJIV3E2dY51-",
        "colab_type": "code",
        "colab": {
          "base_uri": "https://localhost:8080/",
          "height": 34
        },
        "outputId": "60f41469-637e-4ead-f3ea-e55c2bce8452"
      },
      "source": [
        "np.argmax(results,axis = 1)"
      ],
      "execution_count": 8,
      "outputs": [
        {
          "output_type": "execute_result",
          "data": {
            "text/plain": [
              "array([1])"
            ]
          },
          "metadata": {
            "tags": []
          },
          "execution_count": 8
        }
      ]
    },
    {
      "cell_type": "code",
      "metadata": {
        "id": "vsaKztq-ZTp1",
        "colab_type": "code",
        "colab": {}
      },
      "source": [
        "model.save_weights('/content/drive/My Drive/emojifier/model.h5')"
      ],
      "execution_count": 9,
      "outputs": []
    },
    {
      "cell_type": "code",
      "metadata": {
        "id": "Qf2SzaWAaEeB",
        "colab_type": "code",
        "colab": {}
      },
      "source": [
        ""
      ],
      "execution_count": 9,
      "outputs": []
    }
  ]
}