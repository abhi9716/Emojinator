{
 "cells": [
  {
   "cell_type": "code",
   "execution_count": 68,
   "metadata": {},
   "outputs": [],
   "source": [
    "import cv2, os\n",
    "import numpy as np\n",
    "import random\n",
    "from sklearn.utils import shuffle\n",
    "import pickle"
   ]
  },
  {
   "cell_type": "code",
   "execution_count": 69,
   "metadata": {},
   "outputs": [],
   "source": [
    "#create csv file\n",
    "def images_labels(dataset):\n",
    "    images_labels = []\n",
    "    \n",
    "    for label in os.listdir(dataset):\n",
    "        path = dataset+'/'+label\n",
    "        for image in os.listdir(path):\n",
    "            path = dataset+'/'+label+'/'+image\n",
    "            img = cv2.imread(path, 0)\n",
    "            img = cv2.resize(img, (28, 28)) \n",
    "            if np.any(img == None):\n",
    "                continue\n",
    "            # 1st column is labels and rest column is features\n",
    "            value = np.hstack((int(label),img.flatten()))\n",
    "            images_labels.append(value)\n",
    "    \n",
    "    return images_labels\n",
    "\n",
    "images_labels=images_labels('dataset1')"
   ]
  },
  {
   "cell_type": "code",
   "execution_count": 71,
   "metadata": {},
   "outputs": [],
   "source": [
    "# shuffle data\n",
    "dataset = np.array(images_labels)\n",
    "np.random.shuffle(dataset)"
   ]
  },
  {
   "cell_type": "code",
   "execution_count": 72,
   "metadata": {},
   "outputs": [
    {
     "data": {
      "text/plain": [
       "(5000, 785)"
      ]
     },
     "execution_count": 72,
     "metadata": {},
     "output_type": "execute_result"
    }
   ],
   "source": [
    "dataset.shape"
   ]
  },
  {
   "cell_type": "code",
   "execution_count": 73,
   "metadata": {},
   "outputs": [],
   "source": [
    "#save csv file\n",
    "np.savetxt(\"train1.csv\", dataset, delimiter=\",\")"
   ]
  },
  {
   "cell_type": "code",
   "execution_count": null,
   "metadata": {},
   "outputs": [],
   "source": []
  }
 ],
 "metadata": {
  "kernelspec": {
   "display_name": "Python 3",
   "language": "python",
   "name": "python3"
  },
  "language_info": {
   "codemirror_mode": {
    "name": "ipython",
    "version": 3
   },
   "file_extension": ".py",
   "mimetype": "text/x-python",
   "name": "python",
   "nbconvert_exporter": "python",
   "pygments_lexer": "ipython3",
   "version": "3.5.5"
  }
 },
 "nbformat": 4,
 "nbformat_minor": 2
}
