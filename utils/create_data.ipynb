{
 "cells": [
  {
   "cell_type": "code",
   "execution_count": 1,
   "metadata": {},
   "outputs": [
    {
     "name": "stdout",
     "output_type": "stream",
     "text": [
      "Enter label: 10\n",
      "Enter number of images that you want to be taken: 5\n",
      "Enter starting image number: 2\n"
     ]
    }
   ],
   "source": [
    "import cv2\n",
    "import numpy as np\n",
    "import dlib\n",
    "import pickle\n",
    "import os\n",
    "from imutils import face_utils\n",
    "from imutils.face_utils import FaceAligner\n",
    "from random import shuffle, randint\n",
    "from preprocess_img import create_mask, get_bounding_rect\n",
    "\n",
    "\n",
    "SHAPE_PREDICTOR_68 = \"shape_predictor_68_face_landmarks.dat\"\n",
    "shape_predictor_68 = dlib.shape_predictor(SHAPE_PREDICTOR_68)\n",
    "\n",
    "detector = dlib.get_frontal_face_detector()\n",
    "\n",
    "cam = cv2.VideoCapture(1)\n",
    "if cam.read()[0]==False:\n",
    "    cam = cv2.VideoCapture(0)\n",
    "cam.set(cv2.CAP_PROP_FRAME_HEIGHT, 480)\n",
    "cam.set(cv2.CAP_PROP_FRAME_WIDTH, 640) \n",
    "fa = FaceAligner(shape_predictor_68, desiredFaceWidth=250)\n",
    "\n",
    "\n",
    "dataset = 'dataset1/'\n",
    "label = int(input('Enter label: '))\n",
    "num_of_images = int(input('Enter number of images that you want to be taken: '))\n",
    "starting_num = int(input('Enter starting image number: '))\n",
    "count_images = starting_num\n",
    "is_capturing = False\n",
    "if not os.path.exists(dataset+str(label)):\n",
    "    os.mkdir(dataset+str(label))\n",
    "while True:\n",
    "    img = cam.read()[1]\n",
    "    gray = cv2.cvtColor(img, cv2.COLOR_BGR2GRAY)\n",
    "    faces = detector(gray)\n",
    "    rand = randint(0, 10)\n",
    "    if len(faces) > 0:\n",
    "        face = faces[0]\n",
    "        # determine the facial landmarks for the face region\n",
    "        shape_68 = shape_predictor_68(img, face)\n",
    "        # convert the landmark (x, y)-coordinates to a NumPy array\n",
    "        shape = face_utils.shape_to_np(shape_68)\n",
    "        mask = create_mask(shape, img)\n",
    "        masked = cv2.bitwise_and(gray, mask)\n",
    "        maskAligned = fa.align(mask, gray, face)\n",
    "        faceAligned = fa.align(masked, gray, face)\n",
    "        (x0, y0, x1, y1) = get_bounding_rect(maskAligned)\n",
    "        faceAligned = faceAligned[y0:y1, x0:x1]\n",
    "        faceAligned = cv2.resize(faceAligned, (100, 100))\n",
    "        (x, y, w, h) = face_utils.rect_to_bb(face)\n",
    "        cv2.rectangle(img, (x, y), (x+w, y+h), (255, 255, 0), 2)\n",
    "        if count_images-starting_num < int(num_of_images):\n",
    "            if is_capturing:\n",
    "                cv2.putText(img, str(count_images-starting_num), (50, 50), cv2.FONT_HERSHEY_TRIPLEX, 1.5, (255, 255, 0) )\n",
    "                if rand%2 == 0:\n",
    "                    faceAligned = cv2.flip(faceAligned, 1)\n",
    "                cv2.imwrite(dataset+str(label)+'/'+str(count_images)+'.jpg', faceAligned)\n",
    "                count_images += 1\n",
    "        else:\n",
    "            break\n",
    "        cv2.imshow('faceAligned', faceAligned)\n",
    "        \n",
    "    cv2.imshow('img', img)\n",
    "    \n",
    "    keypress = cv2.waitKey(1)\n",
    "    if keypress == ord('q'):\n",
    "        break\n",
    "    elif keypress == ord('c'):\n",
    "        if is_capturing:\n",
    "            is_capturing = False\n",
    "        else:\n",
    "            is_capturing = True\n"
   ]
  },
  {
   "cell_type": "code",
   "execution_count": null,
   "metadata": {},
   "outputs": [],
   "source": []
  },
  {
   "cell_type": "code",
   "execution_count": null,
   "metadata": {},
   "outputs": [],
   "source": []
  },
  {
   "cell_type": "code",
   "execution_count": null,
   "metadata": {},
   "outputs": [],
   "source": []
  },
  {
   "cell_type": "code",
   "execution_count": null,
   "metadata": {},
   "outputs": [],
   "source": []
  }
 ],
 "metadata": {
  "kernelspec": {
   "display_name": "Python 3",
   "language": "python",
   "name": "python3"
  },
  "language_info": {
   "codemirror_mode": {
    "name": "ipython",
    "version": 3
   },
   "file_extension": ".py",
   "mimetype": "text/x-python",
   "name": "python",
   "nbconvert_exporter": "python",
   "pygments_lexer": "ipython3",
   "version": "3.5.5"
  }
 },
 "nbformat": 4,
 "nbformat_minor": 2
}
